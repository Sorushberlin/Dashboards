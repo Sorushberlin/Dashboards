{
 "cells": [
  {
   "cell_type": "markdown",
   "id": "7c43c0b3",
   "metadata": {},
   "source": [
    "## Laptop Price Prediction – Machine Learning Regression Project\n",
    "This project uses a dataset of laptops and their technical specifications to predict laptop prices using machine learning models. The analysis focuses on data preprocessing, feature engineering, polynomial transformations, and regression modeling with cross-validation and regularization.\n",
    "\n",
    "\n",
    "### Problem Statement\n",
    "Laptop pricing is influenced by multiple factors such as CPU specs, RAM, storage type, GPU, and brand category. The goal is to build a regression model that can predict the price of a laptop based on its configuration.\n",
    "\n",
    "\n",
    "### Key Steps\n",
    "Data Cleaning\n",
    "\n",
    "Removed irrelevant columns\n",
    "\n",
    "Converted categorical features to numeric\n",
    "\n",
    "Exploratory Data Analysis\n",
    "\n",
    "Investigated impact of features like CPU_frequency, RAM_GB, and Storage_GB_SSD on price\n",
    "\n",
    "Simple Linear Regression\n",
    "\n",
    "Tested CPU_frequency as a single predictor (low performance)\n",
    "\n",
    "Polynomial Regression\n",
    "\n",
    "Created interaction terms and squared features using PolynomialFeatures\n",
    "\n",
    "Regularized Ridge Regression\n",
    "\n",
    "Tuned alpha values to improve generalization\n",
    "\n",
    "Evaluated performance using R² scores on training and test sets\n",
    "\n",
    "Cross-Validation\n",
    "\n",
    "Validated the model's robustness using cross_val_score"
   ]
  },
  {
   "cell_type": "code",
   "execution_count": 1,
   "id": "5e774a51",
   "metadata": {},
   "outputs": [],
   "source": [
    "# Import necessary libraries for data analysis and visualization\n",
    "import numpy as np\n",
    "import pandas as pd\n",
    "import matplotlib.pyplot as plt\n",
    "import seaborn as sns\n",
    "\n",
    "# Make matplotlib plots display within the notebook (skip this if not in Jupyter)\n",
    "# %matplotlib inline  # (commented out for .py files, works only in Jupyter)\n",
    "\n",
    "# Import Scikit-learn modules for model building and evaluation\n",
    "from sklearn.model_selection import train_test_split, cross_val_score, GridSearchCV\n",
    "from sklearn.linear_model import LinearRegression, Ridge\n",
    "from sklearn.preprocessing import PolynomialFeatures\n",
    "\n",
    "# Set seaborn styling for better looking plots\n",
    "sns.set_style('whitegrid')\n"
   ]
  },
  {
   "cell_type": "code",
   "execution_count": 11,
   "id": "f9d29700",
   "metadata": {},
   "outputs": [],
   "source": [
    "# Load the dataset (adjust path if needed)\n",
    "file_name = \"laptop_pricing_dataset_mod.csv\"\n",
    "df = pd.read_csv(file_name)\n"
   ]
  },
  {
   "cell_type": "markdown",
   "id": "e6112bfd",
   "metadata": {},
   "source": [
    "Data Loading & Preprocessing"
   ]
  },
  {
   "cell_type": "code",
   "execution_count": 12,
   "id": "0fd776cb",
   "metadata": {},
   "outputs": [
    {
     "data": {
      "text/html": [
       "<div>\n",
       "<style scoped>\n",
       "    .dataframe tbody tr th:only-of-type {\n",
       "        vertical-align: middle;\n",
       "    }\n",
       "\n",
       "    .dataframe tbody tr th {\n",
       "        vertical-align: top;\n",
       "    }\n",
       "\n",
       "    .dataframe thead th {\n",
       "        text-align: right;\n",
       "    }\n",
       "</style>\n",
       "<table border=\"1\" class=\"dataframe\">\n",
       "  <thead>\n",
       "    <tr style=\"text-align: right;\">\n",
       "      <th></th>\n",
       "      <th>Unnamed: 0.1</th>\n",
       "      <th>Unnamed: 0</th>\n",
       "      <th>Manufacturer</th>\n",
       "      <th>Category</th>\n",
       "      <th>GPU</th>\n",
       "      <th>OS</th>\n",
       "      <th>CPU_core</th>\n",
       "      <th>Screen_Size_inch</th>\n",
       "      <th>CPU_frequency</th>\n",
       "      <th>RAM_GB</th>\n",
       "      <th>Storage_GB_SSD</th>\n",
       "      <th>Weight_pounds</th>\n",
       "      <th>Price</th>\n",
       "      <th>Price-binned</th>\n",
       "      <th>Screen-Full_HD</th>\n",
       "      <th>Screen-IPS_panel</th>\n",
       "    </tr>\n",
       "  </thead>\n",
       "  <tbody>\n",
       "    <tr>\n",
       "      <th>0</th>\n",
       "      <td>0</td>\n",
       "      <td>0</td>\n",
       "      <td>Acer</td>\n",
       "      <td>4</td>\n",
       "      <td>2</td>\n",
       "      <td>1</td>\n",
       "      <td>5</td>\n",
       "      <td>14.0</td>\n",
       "      <td>0.551724</td>\n",
       "      <td>8</td>\n",
       "      <td>256</td>\n",
       "      <td>3.52800</td>\n",
       "      <td>978</td>\n",
       "      <td>Low</td>\n",
       "      <td>0</td>\n",
       "      <td>1</td>\n",
       "    </tr>\n",
       "    <tr>\n",
       "      <th>1</th>\n",
       "      <td>1</td>\n",
       "      <td>1</td>\n",
       "      <td>Dell</td>\n",
       "      <td>3</td>\n",
       "      <td>1</td>\n",
       "      <td>1</td>\n",
       "      <td>3</td>\n",
       "      <td>15.6</td>\n",
       "      <td>0.689655</td>\n",
       "      <td>4</td>\n",
       "      <td>256</td>\n",
       "      <td>4.85100</td>\n",
       "      <td>634</td>\n",
       "      <td>Low</td>\n",
       "      <td>1</td>\n",
       "      <td>0</td>\n",
       "    </tr>\n",
       "    <tr>\n",
       "      <th>2</th>\n",
       "      <td>2</td>\n",
       "      <td>2</td>\n",
       "      <td>Dell</td>\n",
       "      <td>3</td>\n",
       "      <td>1</td>\n",
       "      <td>1</td>\n",
       "      <td>7</td>\n",
       "      <td>15.6</td>\n",
       "      <td>0.931034</td>\n",
       "      <td>8</td>\n",
       "      <td>256</td>\n",
       "      <td>4.85100</td>\n",
       "      <td>946</td>\n",
       "      <td>Low</td>\n",
       "      <td>1</td>\n",
       "      <td>0</td>\n",
       "    </tr>\n",
       "    <tr>\n",
       "      <th>3</th>\n",
       "      <td>3</td>\n",
       "      <td>3</td>\n",
       "      <td>Dell</td>\n",
       "      <td>4</td>\n",
       "      <td>2</td>\n",
       "      <td>1</td>\n",
       "      <td>5</td>\n",
       "      <td>13.3</td>\n",
       "      <td>0.551724</td>\n",
       "      <td>8</td>\n",
       "      <td>128</td>\n",
       "      <td>2.69010</td>\n",
       "      <td>1244</td>\n",
       "      <td>Low</td>\n",
       "      <td>0</td>\n",
       "      <td>1</td>\n",
       "    </tr>\n",
       "    <tr>\n",
       "      <th>4</th>\n",
       "      <td>4</td>\n",
       "      <td>4</td>\n",
       "      <td>HP</td>\n",
       "      <td>4</td>\n",
       "      <td>2</td>\n",
       "      <td>1</td>\n",
       "      <td>7</td>\n",
       "      <td>15.6</td>\n",
       "      <td>0.620690</td>\n",
       "      <td>8</td>\n",
       "      <td>256</td>\n",
       "      <td>4.21155</td>\n",
       "      <td>837</td>\n",
       "      <td>Low</td>\n",
       "      <td>1</td>\n",
       "      <td>0</td>\n",
       "    </tr>\n",
       "  </tbody>\n",
       "</table>\n",
       "</div>"
      ],
      "text/plain": [
       "   Unnamed: 0.1  Unnamed: 0 Manufacturer  Category  GPU  OS  CPU_core  \\\n",
       "0             0           0         Acer         4    2   1         5   \n",
       "1             1           1         Dell         3    1   1         3   \n",
       "2             2           2         Dell         3    1   1         7   \n",
       "3             3           3         Dell         4    2   1         5   \n",
       "4             4           4           HP         4    2   1         7   \n",
       "\n",
       "   Screen_Size_inch  CPU_frequency  RAM_GB  Storage_GB_SSD  Weight_pounds  \\\n",
       "0              14.0       0.551724       8             256        3.52800   \n",
       "1              15.6       0.689655       4             256        4.85100   \n",
       "2              15.6       0.931034       8             256        4.85100   \n",
       "3              13.3       0.551724       8             128        2.69010   \n",
       "4              15.6       0.620690       8             256        4.21155   \n",
       "\n",
       "   Price Price-binned  Screen-Full_HD  Screen-IPS_panel  \n",
       "0    978          Low               0                 1  \n",
       "1    634          Low               1                 0  \n",
       "2    946          Low               1                 0  \n",
       "3   1244          Low               0                 1  \n",
       "4    837          Low               1                 0  "
      ]
     },
     "execution_count": 12,
     "metadata": {},
     "output_type": "execute_result"
    }
   ],
   "source": [
    "# Load the cleaned laptop dataset\n",
    "df = pd.read_csv(file_name, header=0)\n",
    "\n",
    "# Display the first few rows of the dataset\n",
    "df.head()\n"
   ]
  },
  {
   "cell_type": "code",
   "execution_count": 13,
   "id": "3466d947",
   "metadata": {},
   "outputs": [],
   "source": [
    "# Drop extra unnamed columns that may have been introduced during CSV export\n",
    "df.drop(['Unnamed: 0', 'Unnamed: 0.1'], axis=1, inplace=True)\n",
    "\n",
    "# Define target variable (Price)\n",
    "y_data = df['Price']\n",
    "\n",
    "# Define input features by removing the target column\n",
    "x_data = df.drop('Price', axis=1)"
   ]
  },
  {
   "cell_type": "code",
   "execution_count": 14,
   "id": "9724ccbe",
   "metadata": {},
   "outputs": [
    {
     "name": "stdout",
     "output_type": "stream",
     "text": [
      "number of test samples : 24\n",
      "number of train sample : 214\n"
     ]
    }
   ],
   "source": [
    "# Split data into training and testing sets (90% train, 10% test)\n",
    "x_train, x_test, y_train, y_test = train_test_split(x_data, y_data, test_size=0.10, random_state=1)\n",
    "\n",
    "# Display the number of samples in test and train sets\n",
    "print('number of test samples :', x_test.shape[0])\n",
    "print('number of train sample :', x_train.shape[0])\n"
   ]
  },
  {
   "cell_type": "markdown",
   "id": "5165b581",
   "metadata": {},
   "source": [
    " Simple Linear Regression on CPU Frequency"
   ]
  },
  {
   "cell_type": "code",
   "execution_count": null,
   "id": "eb9f5de5",
   "metadata": {},
   "outputs": [
    {
     "name": "stdout",
     "output_type": "stream",
     "text": [
      "-0.06599437350393766\n",
      "0.14829792099817973\n"
     ]
    }
   ],
   "source": [
    "# Initialize the linear regression model\n",
    "lre = LinearRegression()\n",
    "\n",
    "# Train the model using CPU_frequency as the predictor\n",
    "lre.fit(x_train[['CPU_frequency']], y_train)\n",
    "\n",
    "# Evaluate the model on test and train sets\n",
    "print(lre.score(x_test[['CPU_frequency']], y_test))   \n",
    "print(lre.score(x_train[['CPU_frequency']], y_train))\n"
   ]
  },
  {
   "cell_type": "markdown",
   "id": "8da63ee0",
   "metadata": {},
   "source": [
    "Cross-Validation (CPU Frequency)"
   ]
  },
  {
   "cell_type": "code",
   "execution_count": 16,
   "id": "30c13f78",
   "metadata": {},
   "outputs": [
    {
     "name": "stdout",
     "output_type": "stream",
     "text": [
      "The mean of the folds are -0.16109232388595118 and the standard deviation is 0.3849579786664711\n"
     ]
    }
   ],
   "source": [
    "# Perform 4-fold cross-validation on CPU_frequency feature\n",
    "Rcross = cross_val_score(lre, x_data[['CPU_frequency']], y_data, cv=4)\n",
    "print(\"The mean of the folds are\", Rcross.mean(), \"and the standard deviation is\", Rcross.std())"
   ]
  },
  {
   "cell_type": "markdown",
   "id": "cace0e8d",
   "metadata": {},
   "source": [
    "Polynomial Regression: Comparing Degrees"
   ]
  },
  {
   "cell_type": "code",
   "execution_count": 17,
   "id": "9818db7c",
   "metadata": {},
   "outputs": [
    {
     "data": {
      "text/plain": [
       "Text(0.5, 1.0, 'R^2 Using Test Data')"
      ]
     },
     "execution_count": 17,
     "metadata": {},
     "output_type": "execute_result"
    },
    {
     "data": {
      "image/png": "[encoded data removed]",
      "text/plain": [
       "<Figure size 640x480 with 1 Axes>"
      ]
     },
     "metadata": {},
     "output_type": "display_data"
    }
   ],
   "source": [
    "# Split the data again for polynomial testing (50/50 split)\n",
    "x_train, x_test, y_train, y_test = train_test_split(x_data, y_data, test_size=0.5, random_state=0)\n",
    "\n",
    "# Re-initialize linear regression\n",
    "lre = LinearRegression()\n",
    "\n",
    "# List to store R² scores for different polynomial degrees\n",
    "Rsqu_test = []\n",
    "order = [1, 2, 3, 4, 5]\n",
    "\n",
    "# Loop through polynomial degrees and evaluate model performance\n",
    "for n in order:\n",
    "    pr = PolynomialFeatures(degree=n)\n",
    "    x_train_pr = pr.fit_transform(x_train[['CPU_frequency']])\n",
    "    x_test_pr = pr.fit_transform(x_test[['CPU_frequency']])\n",
    "    lre.fit(x_train_pr, y_train)\n",
    "    Rsqu_test.append(lre.score(x_test_pr, y_test))\n",
    "\n",
    "# Plot R² scores for each polynomial degree\n",
    "plt.plot(order, Rsqu_test)\n",
    "plt.xlabel('order')\n",
    "plt.ylabel('R^2')\n",
    "plt.title('R^2 Using Test Data')\n"
   ]
  },
  {
   "cell_type": "markdown",
   "id": "c1d14340",
   "metadata": {},
   "source": [
    "Polynomial + Ridge Regression (Multiple Features)"
   ]
  },
  {
   "cell_type": "code",
   "execution_count": 18,
   "id": "dc555939",
   "metadata": {},
   "outputs": [
    {
     "name": "stderr",
     "output_type": "stream",
     "text": [
      "100%|██████████| 999/999 [00:04<00:00, 237.47it/s, Test Score=0.423, Train Score=0.669]\n"
     ]
    }
   ],
   "source": [
    "# Create polynomial features (degree=2) using multiple predictors\n",
    "pr = PolynomialFeatures(degree=2)\n",
    "x_train_pr = pr.fit_transform(x_train[['CPU_frequency', 'RAM_GB', 'Storage_GB_SSD', 'CPU_core', 'OS', 'GPU', 'Category']])\n",
    "x_test_pr = pr.fit_transform(x_test[['CPU_frequency', 'RAM_GB', 'Storage_GB_SSD', 'CPU_core', 'OS', 'GPU', 'Category']])\n",
    "\n",
    "# Prepare lists to store model performance\n",
    "Rsqu_test = []\n",
    "Rsqu_train = []\n",
    "\n",
    "# Generate alpha values for regularization tuning\n",
    "Alpha = np.arange(0.001, 1, 0.001)\n",
    "\n",
    "# Initialize progress bar\n",
    "from tqdm import tqdm\n",
    "pbar = tqdm(Alpha)\n",
    "\n",
    "# Ridge regression with varying alpha values\n",
    "for alpha in pbar:\n",
    "    RigeModel = Ridge(alpha=alpha)\n",
    "    RigeModel.fit(x_train_pr, y_train)\n",
    "    test_score = RigeModel.score(x_test_pr, y_test)\n",
    "    train_score = RigeModel.score(x_train_pr, y_train)\n",
    "    pbar.set_postfix({\"Test Score\": test_score, \"Train Score\": train_score})\n"
   ]
  }
 ],
 "metadata": {
  "kernelspec": {
   "display_name": "base",
   "language": "python",
   "name": "python3"
  },
  "language_info": {
   "codemirror_mode": {
    "name": "ipython",
    "version": 3
   },
   "file_extension": ".py",
   "mimetype": "text/x-python",
   "name": "python",
   "nbconvert_exporter": "python",
   "pygments_lexer": "ipython3",
   "version": "3.12.4"
  }
 },
 "nbformat": 4,
 "nbformat_minor": 5
}
